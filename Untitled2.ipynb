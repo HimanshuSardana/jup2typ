{
 "cells": [
  {
   "cell_type": "markdown",
   "id": "be41cfeb-27e8-4610-95ce-e51249dec2e3",
   "metadata": {},
   "source": [
    "Question 1: Assign and print the values 23.4, 45 and 678 to the variables `A, B, C`"
   ]
  },
  {
   "cell_type": "code",
   "execution_count": 22,
   "id": "fbef7f83-219e-4de3-b8d0-73fb68c59b03",
   "metadata": {},
   "outputs": [
    {
     "name": "stdout",
     "output_type": "stream",
     "text": [
      "23.4 45 678"
     ]
    }
   ],
   "source": [
    "A <- 23.4\n",
    "B <- 45\n",
    "C <- 678\n",
    "\n",
    "cat(A, B, C)"
   ]
  },
  {
   "cell_type": "markdown",
   "id": "3271de1b-f24a-4372-8c20-75dfda739039",
   "metadata": {},
   "source": [
    "Question 2: Display the entire variables you have created on the screen"
   ]
  },
  {
   "cell_type": "code",
   "execution_count": 23,
   "id": "cb87dbcf-347c-4b39-be94-c0188488422c",
   "metadata": {},
   "outputs": [
    {
     "data": {
      "text/html": [
       "<style>\n",
       ".list-inline {list-style: none; margin:0; padding: 0}\n",
       ".list-inline>li {display: inline-block}\n",
       ".list-inline>li:not(:last-child)::after {content: \"\\00b7\"; padding: 0 .5ex}\n",
       "</style>\n",
       "<ol class=list-inline><li>'A'</li><li>'B'</li><li>'C'</li></ol>\n"
      ],
      "text/latex": [
       "\\begin{enumerate*}\n",
       "\\item 'A'\n",
       "\\item 'B'\n",
       "\\item 'C'\n",
       "\\end{enumerate*}\n"
      ],
      "text/markdown": [
       "1. 'A'\n",
       "2. 'B'\n",
       "3. 'C'\n",
       "\n",
       "\n"
      ],
      "text/plain": [
       "[1] \"A\" \"B\" \"C\""
      ]
     },
     "metadata": {},
     "output_type": "display_data"
    }
   ],
   "source": [
    "ls()"
   ]
  },
  {
   "cell_type": "markdown",
   "id": "cda0a038-2f0e-4c11-932a-0cac445556f9",
   "metadata": {},
   "source": [
    "Question 3: Remove the variable `C` and display the list."
   ]
  },
  {
   "cell_type": "code",
   "execution_count": 24,
   "id": "03696a23-3793-415c-b1cc-94f2e4374ee3",
   "metadata": {},
   "outputs": [
    {
     "data": {
      "text/html": [
       "<style>\n",
       ".list-inline {list-style: none; margin:0; padding: 0}\n",
       ".list-inline>li {display: inline-block}\n",
       ".list-inline>li:not(:last-child)::after {content: \"\\00b7\"; padding: 0 .5ex}\n",
       "</style>\n",
       "<ol class=list-inline><li>'A'</li><li>'B'</li></ol>\n"
      ],
      "text/latex": [
       "\\begin{enumerate*}\n",
       "\\item 'A'\n",
       "\\item 'B'\n",
       "\\end{enumerate*}\n"
      ],
      "text/markdown": [
       "1. 'A'\n",
       "2. 'B'\n",
       "\n",
       "\n"
      ],
      "text/plain": [
       "[1] \"A\" \"B\""
      ]
     },
     "metadata": {},
     "output_type": "display_data"
    }
   ],
   "source": [
    "rm(C)\n",
    "ls()"
   ]
  },
  {
   "cell_type": "markdown",
   "id": "2fce5a7f-c44b-4c1f-b610-84b31c3713f4",
   "metadata": {},
   "source": [
    "Question 4: Create a comment \"I am learning R\""
   ]
  },
  {
   "cell_type": "code",
   "execution_count": 25,
   "id": "1e175803-2e1d-45a4-8b64-463d21b124c7",
   "metadata": {},
   "outputs": [],
   "source": [
    "# I am learning R"
   ]
  },
  {
   "cell_type": "markdown",
   "id": "1a6275a4-240b-4b37-9fb7-8f10dc825823",
   "metadata": {},
   "source": [
    "Question 5: Create strings firstname and lastname as \"MyName\" and \"MySurname\""
   ]
  },
  {
   "cell_type": "code",
   "execution_count": 26,
   "id": "78609bbb-67b4-42b7-bf42-4d7485ab78f1",
   "metadata": {},
   "outputs": [],
   "source": [
    "firstname <- \"MyName\"\n",
    "lastname <- \"MySurname\""
   ]
  },
  {
   "cell_type": "markdown",
   "id": "3659c8ca-3aab-4690-8fea-6e84cea90c0f",
   "metadata": {},
   "source": [
    "Question 6: Create the variable that can hold a value `0` or `1`"
   ]
  },
  {
   "cell_type": "markdown",
   "id": "65e11471-9577-4202-b932-0b60fff64013",
   "metadata": {},
   "source": [
    "Question 7: Perform the operation as +, -, * and / on variables `A, B, C` together."
   ]
  },
  {
   "cell_type": "code",
   "execution_count": 29,
   "id": "e904b835-3360-4669-a762-443044aa4ae4",
   "metadata": {},
   "outputs": [
    {
     "name": "stdout",
     "output_type": "stream",
     "text": [
      "-609.6 \n",
      "1.553097"
     ]
    }
   ],
   "source": [
    "C <- 678 # since it was deleted earlier\n",
    "cat(A+B-C, \"\\n\")\n",
    "cat(A*B/C)"
   ]
  },
  {
   "cell_type": "markdown",
   "id": "cc36a585-b32f-4d99-b2f2-260c87cafb2b",
   "metadata": {},
   "source": [
    "Question 8: Apply the following functions on some values `exp()`, `log()`, `log10()`, `log2()`, `pi`, `sqrt()`."
   ]
  },
  {
   "cell_type": "code",
   "execution_count": 32,
   "id": "6982b109-8df0-44bf-981a-7bad3dc15514",
   "metadata": {},
   "outputs": [
    {
     "name": "stdout",
     "output_type": "stream",
     "text": [
      "148.4132 \n",
      "3.152736 \n",
      "1.653213 \n",
      "9.405141 \n",
      "3.141593 \n",
      "5"
     ]
    }
   ],
   "source": [
    "cat(exp(5), \"\\n\")\n",
    "cat(log(A), \"\\n\")\n",
    "cat(log10(B), \"\\n\")\n",
    "cat(log2(C), \"\\n\")\n",
    "cat(pi, \"\\n\")\n",
    "cat(sqrt(25))"
   ]
  },
  {
   "cell_type": "markdown",
   "id": "208c332d-aa90-41b2-bbcd-53af09625d1f",
   "metadata": {},
   "source": [
    "Question 9: Write the statements to solve the following expressions:\n",
    "1. 23 + (4.5 * 2.3) / 10\n",
    "2. 456/12 - log(90)\n",
    "3. exp(5) + 12/(5^6)\n",
    "4. sqrt(45)*12/3"
   ]
  },
  {
   "cell_type": "code",
   "execution_count": 1,
   "id": "b541be4c-fdbd-4e69-96b5-58ac285bdf51",
   "metadata": {},
   "outputs": [
    {
     "name": "stdout",
     "output_type": "stream",
     "text": [
      "24.035 \n",
      "33.50019 \n",
      "148.4139 \n",
      "26.83282 \n"
     ]
    }
   ],
   "source": [
    "cat(23 + (4.5 * 2.3) / 10, \"\\n\")\n",
    "cat(456/12 - log(90), \"\\n\")\n",
    "cat(exp(5) + 12/(5^6), \"\\n\")\n",
    "cat(sqrt(45)*12/3, \"\\n\")"
   ]
  },
  {
   "cell_type": "code",
   "execution_count": null,
   "id": "a8d14776-d83a-4840-8657-9f9e1c8326d8",
   "metadata": {},
   "outputs": [],
   "source": []
  }
 ],
 "metadata": {
  "kernelspec": {
   "display_name": "R",
   "language": "R",
   "name": "ir"
  },
  "language_info": {
   "codemirror_mode": "r",
   "file_extension": ".r",
   "mimetype": "text/x-r-source",
   "name": "R",
   "pygments_lexer": "r",
   "version": "4.5.1"
  }
 },
 "nbformat": 4,
 "nbformat_minor": 5
}
