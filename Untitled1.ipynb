{
 "cells": [
  {
   "cell_type": "markdown",
   "id": "b24fcbb1-7007-4890-b014-b986310ea2bb",
   "metadata": {},
   "source": [
    "Question 1: Write a program to find the complement of an image"
   ]
  },
  {
   "cell_type": "code",
   "execution_count": 3,
   "id": "4f18c00a-0e9f-4bed-84c6-803ef88961db",
   "metadata": {},
   "outputs": [
    {
     "name": "stdout",
     "output_type": "stream",
     "text": [
      "[[[149 149 149]\n",
      "  [152 152 152]\n",
      "  [156 156 156]\n",
      "  ...\n",
      "  [ 74  74  74]\n",
      "  [ 74  74  74]\n",
      "  [ 74  74  74]]\n",
      "\n",
      " [[157 157 157]\n",
      "  [159 159 159]\n",
      "  [161 161 161]\n",
      "  ...\n",
      "  [ 74  74  74]\n",
      "  [ 74  74  74]\n",
      "  [ 74  74  74]]\n",
      "\n",
      " [[165 165 165]\n",
      "  [167 167 167]\n",
      "  [168 168 168]\n",
      "  ...\n",
      "  [ 74  74  74]\n",
      "  [ 74  74  74]\n",
      "  [ 74  74  74]]\n",
      "\n",
      " ...\n",
      "\n",
      " [[192 192 192]\n",
      "  [192 192 192]\n",
      "  [192 192 192]\n",
      "  ...\n",
      "  [190 190 190]\n",
      "  [188 188 188]\n",
      "  [187 187 187]]\n",
      "\n",
      " [[192 192 192]\n",
      "  [192 192 192]\n",
      "  [192 192 192]\n",
      "  ...\n",
      "  [190 190 190]\n",
      "  [188 188 188]\n",
      "  [187 187 187]]\n",
      "\n",
      " [[192 192 192]\n",
      "  [192 192 192]\n",
      "  [192 192 192]\n",
      "  ...\n",
      "  [190 190 190]\n",
      "  [188 188 188]\n",
      "  [187 187 187]]]\n"
     ]
    }
   ],
   "source": [
    "import cv2\n",
    "\n",
    "img = cv2.imread(\"./gray.jpeg\")\n",
    "print(img)\n",
    "\n",
    "complement = 255 - img\n",
    "\n",
    "# cv2.imwrite(\"complement.jpg\", complement)\n"
   ]
  },
  {
   "cell_type": "markdown",
   "id": "e370bd90-278a-4ee5-b2d3-9aa02fc8bf0e",
   "metadata": {},
   "source": [
    "Question 2: Convert image to grayscale using\n",
    "(a) Mean Threshold\n",
    "(b) User-defined threshold"
   ]
  },
  {
   "cell_type": "code",
   "execution_count": 9,
   "id": "680901eb-e2fe-47cc-bed7-7f7a49b88ce9",
   "metadata": {},
   "outputs": [],
   "source": [
    "import cv2\n",
    "import numpy as np\n",
    "\n",
    "img = cv2.imread(\"./gray.jpeg\", cv2.IMREAD_GRAYSCALE)\n",
    "# gray_img = cv2.threshold(img, np.mean(img), 255)\n"
   ]
  },
  {
   "cell_type": "markdown",
   "id": "25965bd6-253b-4b0b-94da-68ac6c6bd652",
   "metadata": {},
   "source": [
    "Question 3: Find the output of `3+4` and the following program\n",
    "```python\n",
    "print(\"Hello World\")\n",
    "```"
   ]
  },
  {
   "cell_type": "code",
   "execution_count": 11,
   "id": "16f36b87-0f73-4c3c-8729-c7b3925944e4",
   "metadata": {},
   "outputs": [
    {
     "name": "stdout",
     "output_type": "stream",
     "text": [
      "Hello world\n"
     ]
    }
   ],
   "source": [
    "print(\"Hello world\")"
   ]
  },
  {
   "cell_type": "code",
   "execution_count": null,
   "id": "b07bcaa2-027c-46c9-aaef-fcb205a55c7d",
   "metadata": {},
   "outputs": [],
   "source": []
  },
  {
   "cell_type": "code",
   "execution_count": null,
   "id": "1bdfc048-f359-4795-806a-54e1ea0b883d",
   "metadata": {},
   "outputs": [],
   "source": []
  }
 ],
 "metadata": {
  "kernelspec": {
   "display_name": "Python 3 (ipykernel)",
   "language": "python",
   "name": "python3"
  },
  "language_info": {
   "codemirror_mode": {
    "name": "ipython",
    "version": 3
   },
   "file_extension": ".py",
   "mimetype": "text/x-python",
   "name": "python",
   "nbconvert_exporter": "python",
   "pygments_lexer": "ipython3",
   "version": "3.11.13"
  }
 },
 "nbformat": 4,
 "nbformat_minor": 5
}

